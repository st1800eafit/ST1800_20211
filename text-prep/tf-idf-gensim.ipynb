{
  "nbformat": 4,
  "nbformat_minor": 0,
  "metadata": {
    "colab": {
      "name": "Welcome To Colaboratory",
      "provenance": [],
      "collapsed_sections": [],
      "toc_visible": true
    },
    "kernelspec": {
      "display_name": "Python 3",
      "name": "python3"
    }
  },
  "cells": [
    {
      "cell_type": "code",
      "metadata": {
        "id": "gJr_9dXGpJ05"
      },
      "source": [
        "import gensim\n",
        "import pprint\n",
        "from gensim import corpora\n",
        "from gensim.utils import simple_preprocess"
      ],
      "execution_count": 29,
      "outputs": []
    },
    {
      "cell_type": "code",
      "metadata": {
        "id": "7qkoNkAt1tia",
        "outputId": "825d9b59-510a-463c-b40d-ceb18c127600",
        "colab": {
          "base_uri": "https://localhost:8080/",
          "height": 142
        }
      },
      "source": [
        "doc_list = [\n",
        "   \"Hello, how are you?\", \"How do you do?\", \n",
        "   \"Hey what are you doing? yes you What are you doing?\"\n",
        "]\n",
        "\n",
        "doc_list\n",
        "df = pd.DataFrame({\"doc\": [1,2,3],\"content\": doc_list})\n",
        "df.head()"
      ],
      "execution_count": 15,
      "outputs": [
        {
          "output_type": "execute_result",
          "data": {
            "text/html": [
              "<div>\n",
              "<style scoped>\n",
              "    .dataframe tbody tr th:only-of-type {\n",
              "        vertical-align: middle;\n",
              "    }\n",
              "\n",
              "    .dataframe tbody tr th {\n",
              "        vertical-align: top;\n",
              "    }\n",
              "\n",
              "    .dataframe thead th {\n",
              "        text-align: right;\n",
              "    }\n",
              "</style>\n",
              "<table border=\"1\" class=\"dataframe\">\n",
              "  <thead>\n",
              "    <tr style=\"text-align: right;\">\n",
              "      <th></th>\n",
              "      <th>doc</th>\n",
              "      <th>content</th>\n",
              "    </tr>\n",
              "  </thead>\n",
              "  <tbody>\n",
              "    <tr>\n",
              "      <th>0</th>\n",
              "      <td>1</td>\n",
              "      <td>Hello, how are you?</td>\n",
              "    </tr>\n",
              "    <tr>\n",
              "      <th>1</th>\n",
              "      <td>2</td>\n",
              "      <td>How do you do?</td>\n",
              "    </tr>\n",
              "    <tr>\n",
              "      <th>2</th>\n",
              "      <td>3</td>\n",
              "      <td>Hey what are you doing? yes you What are you d...</td>\n",
              "    </tr>\n",
              "  </tbody>\n",
              "</table>\n",
              "</div>"
            ],
            "text/plain": [
              "   doc                                            content\n",
              "0    1                                Hello, how are you?\n",
              "1    2                                     How do you do?\n",
              "2    3  Hey what are you doing? yes you What are you d..."
            ]
          },
          "metadata": {
            "tags": []
          },
          "execution_count": 15
        }
      ]
    },
    {
      "cell_type": "code",
      "metadata": {
        "id": "Z4P0JLOC-mSN"
      },
      "source": [
        "df[\"tokens\"] = df.content.apply(lambda doc: simple_preprocess(doc))"
      ],
      "execution_count": 20,
      "outputs": []
    },
    {
      "cell_type": "markdown",
      "metadata": {
        "id": "sRj9gwJAAms9"
      },
      "source": [
        "En este punto, se pueden incluir mas pasos del preprocesing utilizando el `df[\"..\"].apply(lambda x: ...)`"
      ]
    },
    {
      "cell_type": "code",
      "metadata": {
        "id": "-olWYIRL-qND"
      },
      "source": [
        "dictionary = corpora.Dictionary(df[\"tokens\"])"
      ],
      "execution_count": 23,
      "outputs": []
    },
    {
      "cell_type": "code",
      "metadata": {
        "id": "dSClC5Y3_MHc"
      },
      "source": [
        "raw_corpus = [dictionary.doc2bow(doc) for doc in df[\"tokens\"]]"
      ],
      "execution_count": 27,
      "outputs": []
    },
    {
      "cell_type": "code",
      "metadata": {
        "id": "dvQTodV5_uks"
      },
      "source": [
        "tfidf = gensim.models.TfidfModel(raw_corpus)"
      ],
      "execution_count": 33,
      "outputs": []
    },
    {
      "cell_type": "code",
      "metadata": {
        "id": "3efq9Y3XALSb",
        "outputId": "9a479c97-bca7-4ac8-9347-428d112c809e",
        "colab": {
          "base_uri": "https://localhost:8080/"
        }
      },
      "source": [
        "import numpy as np\n",
        "for doc in tfidf[raw_corpus]:\n",
        "   print([[dictionary[id], np.round(freq,2)] for id, freq in doc])"
      ],
      "execution_count": 39,
      "outputs": [
        {
          "output_type": "stream",
          "text": [
            "[['are', 0.33], ['hello', 0.89], ['how', 0.33]]\n",
            "[['how', 0.18], ['do', 0.98]]\n",
            "[['are', 0.23], ['doing', 0.62], ['hey', 0.31], ['what', 0.62], ['yes', 0.31]]\n"
          ],
          "name": "stdout"
        }
      ]
    }
  ]
}